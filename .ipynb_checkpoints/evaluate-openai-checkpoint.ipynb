{
 "cells": [
  {
   "cell_type": "code",
   "execution_count": 5,
   "id": "a4eca170",
   "metadata": {},
   "outputs": [],
   "source": [
    "from langchain.evaluation.loading import load_dataset\n",
    "from langchain.document_loaders import TextLoader\n",
    "from langchain.text_splitter import CharacterTextSplitter\n",
    "from langchain.chains import RetrievalQA\n",
    "from langchain.embeddings import OpenAIEmbeddings\n",
    "import openai\n",
    "from langchain.llms import OpenAI\n",
    "from langchain.embeddings import HuggingFaceEmbeddings\n",
    "from langchain.vectorstores import FAISS\n",
    "from langchain.evaluation.qa import QAEvalChain\n",
    "from collections import Counter\n",
    "import pandas as pd\n",
    "import numpy as np\n",
    "import os"
   ]
  },
  {
   "cell_type": "code",
   "execution_count": 6,
   "id": "80f4eb45",
   "metadata": {},
   "outputs": [
    {
     "name": "stderr",
     "output_type": "stream",
     "text": [
      "Found cached dataset json (/Users/taozhiwang/.cache/huggingface/datasets/LangChainDatasets___json/LangChainDatasets--question-answering-state-of-the-union-a7e5a3b2db4f440d/0.0.0/8bb11242116d547c741b2e8a1f18598ffdd40a1d4f2a2872c7a28b697434bc96)\n"
     ]
    },
    {
     "data": {
      "application/vnd.jupyter.widget-view+json": {
       "model_id": "ddf9a51e7506407aa7a0bed71baf8cb7",
       "version_major": 2,
       "version_minor": 0
      },
      "text/plain": [
       "  0%|          | 0/1 [00:00<?, ?it/s]"
      ]
     },
     "metadata": {},
     "output_type": "display_data"
    }
   ],
   "source": [
    "dataset = load_dataset(\"question-answering-state-of-the-union\")\n",
    "embeddings = OpenAIEmbeddings()\n",
    "db = FAISS.load_local(\"openai_index_2\", embeddings)\n",
    "\n",
    "openai.api_key = os.environ[\"OPENAI_API_KEY\"]"
   ]
  },
  {
   "cell_type": "code",
   "execution_count": 7,
   "id": "27e1e586",
   "metadata": {},
   "outputs": [],
   "source": [
    "chain = RetrievalQA.from_chain_type(\n",
    "    llm=OpenAI(),\n",
    "    chain_type=\"stuff\",\n",
    "    retriever=db.as_retriever(),\n",
    "    input_key=\"question\",\n",
    ")\n",
    "predictions = chain.apply(dataset)\n",
    "\n",
    "llm = OpenAI(temperature=0.7)\n",
    "eval_chain = QAEvalChain.from_llm(llm)\n",
    "graded_outputs = eval_chain.evaluate(\n",
    "    dataset, predictions, question_key=\"question\", prediction_key=\"result\"\n",
    ")"
   ]
  },
  {
   "cell_type": "code",
   "execution_count": 8,
   "id": "6e335568",
   "metadata": {},
   "outputs": [
    {
     "name": "stdout",
     "output_type": "stream",
     "text": [
      "Counter({' CORRECT': 9, ' INCORRECT': 2})\n"
     ]
    }
   ],
   "source": [
    "for i, prediction in enumerate(predictions):\n",
    "    prediction[\"grade\"] = graded_outputs[i][\"text\"]\n",
    "\n",
    "print(Counter([pred[\"grade\"] for pred in predictions]))"
   ]
  },
  {
   "cell_type": "code",
   "execution_count": 10,
   "id": "05a2bc93",
   "metadata": {},
   "outputs": [
    {
     "name": "stdout",
     "output_type": "stream",
     "text": [
      "{'answer': 'The four common sense steps suggested by the author to move forward safely are: stay protected with vaccines and treatments, prepare for new variants, end the shutdown of schools and businesses, and stay vigilant.', 'question': 'What are the four common sense steps that the author suggests to move forward safely?', 'result': \" I don't know.\", 'grade': ' INCORRECT'}\n",
      "{'answer': 'The Unity Agenda for the Nation includes four big things that can be done together: beat the opioid epidemic, take on mental health, support veterans, and strengthen the Violence Against Women Act.', 'question': 'What is the Unity Agenda for the Nation that the President is offering?', 'result': \" I don't know.\", 'grade': ' INCORRECT'}\n"
     ]
    }
   ],
   "source": [
    "incorrect = [pred for pred in predictions if pred[\"grade\"] == \" INCORRECT\"]\n",
    "\n",
    "print(incorrect[0])\n",
    "print(incorrect[1])"
   ]
  },
  {
   "cell_type": "code",
   "execution_count": null,
   "id": "096009cf",
   "metadata": {},
   "outputs": [],
   "source": []
  }
 ],
 "metadata": {
  "kernelspec": {
   "display_name": "Python 3 (ipykernel)",
   "language": "python",
   "name": "python3"
  },
  "language_info": {
   "codemirror_mode": {
    "name": "ipython",
    "version": 3
   },
   "file_extension": ".py",
   "mimetype": "text/x-python",
   "name": "python",
   "nbconvert_exporter": "python",
   "pygments_lexer": "ipython3",
   "version": "3.11.4"
  }
 },
 "nbformat": 4,
 "nbformat_minor": 5
}
